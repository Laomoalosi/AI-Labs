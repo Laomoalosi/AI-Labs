{
 "cells": [
  {
   "cell_type": "code",
   "execution_count": 2,
   "metadata": {},
   "outputs": [
    {
     "name": "stdout",
     "output_type": "stream",
     "text": [
      "4\n",
      "jo\n"
     ]
    }
   ],
   "source": [
    "#variables \n",
    "a = 2\n",
    "b = a * a \n",
    "print(b)\n",
    "print(name)\n",
    "name = \"jo\" #single or double quotes allowed "
   ]
  },
  {
   "cell_type": "code",
   "execution_count": 3,
   "metadata": {},
   "outputs": [
    {
     "name": "stdout",
     "output_type": "stream",
     "text": [
      "200\n",
      "400.0\n",
      "Kate\n"
     ]
    }
   ],
   "source": [
    "counter = 100 #An interger assignment \n",
    "miles = 1000.0 # A floating point assignment\n",
    "name = \"Kate\" #A string assignment \n",
    "\n",
    "count = counter * 2 \n",
    "print(count)\n",
    "\n",
    "travel = miles / 2.5\n",
    "print(travel)\n",
    "\n",
    "print(name)"
   ]
  },
  {
   "cell_type": "code",
   "execution_count": 4,
   "metadata": {},
   "outputs": [
    {
     "name": "stdout",
     "output_type": "stream",
     "text": [
      "[1, 2, 3]\n",
      "[1, 2, 3, 1, 2, 3]\n",
      "[1, 2, 3, 1, 2, 3, 0]\n"
     ]
    }
   ],
   "source": [
    "z = [1,2,3]\n",
    "print(z)\n",
    "z.extend(z)\n",
    "print(z)\n",
    "z.append(0)\n",
    "print(z)"
   ]
  },
  {
   "cell_type": "code",
   "execution_count": 7,
   "metadata": {},
   "outputs": [
    {
     "name": "stdout",
     "output_type": "stream",
     "text": [
      "3\n"
     ]
    },
    {
     "data": {
      "text/plain": [
       "False"
      ]
     },
     "execution_count": 7,
     "metadata": {},
     "output_type": "execute_result"
    }
   ],
   "source": [
    "#List can be modified\n",
    "integer_list = [1,2,3,4,5,6,7,8,9]\n",
    "print(integer_list[2]) #Indices of a list indicated by[]\n",
    "23 in integer_list # checks if 23 is in the integer_list"
   ]
  },
  {
   "cell_type": "code",
   "execution_count": 12,
   "metadata": {},
   "outputs": [
    {
     "ename": "SyntaxError",
     "evalue": "invalid syntax (<ipython-input-12-c3f830f57f27>, line 2)",
     "output_type": "error",
     "traceback": [
      "\u001b[0;36m  File \u001b[0;32m\"<ipython-input-12-c3f830f57f27>\"\u001b[0;36m, line \u001b[0;32m2\u001b[0m\n\u001b[0;31m    1.append(['a','b','c'])\u001b[0m\n\u001b[0m           ^\u001b[0m\n\u001b[0;31mSyntaxError\u001b[0m\u001b[0;31m:\u001b[0m invalid syntax\n"
     ]
    }
   ],
   "source": [
    "1 =[] # example of an array structure\n",
    "1.append(['a','b','c'])\n",
    "1.append(['d','e','f']) # results in[['a','b','c'],['d','e','f']]\n",
    "first_two = integer_list[:2]\n",
    "print(first_two)\n",
    "four_to_end = integer_list[4:]\n",
    "print(four_to_end)"
   ]
  },
  {
   "cell_type": "code",
   "execution_count": 13,
   "metadata": {},
   "outputs": [
    {
     "name": "stdout",
     "output_type": "stream",
     "text": [
      "[1, 2, 3, 4, 5]\n",
      "[4, 2, 3, 1, 5]\n",
      "[1, 2, 3, 4, 5]\n",
      "[4, 2, 3, 1, 5]\n"
     ]
    }
   ],
   "source": [
    "# all lists have a sort method\n",
    "x = [4,2,3,1,5]\n",
    "print(sorted(x)) # [1,2,3,4,5]\n",
    "print(x) #[4,2,3,1,5]\n",
    "y = sorted(x)\n",
    "print(y) # [1,2,3,4,5]\n",
    "print(x) # [4,2,3,1,5]\n",
    "x.sort() #sort() is the method print(x) # [1,2,3,4,5]"
   ]
  },
  {
   "cell_type": "code",
   "execution_count": 14,
   "metadata": {},
   "outputs": [
    {
     "name": "stdout",
     "output_type": "stream",
     "text": [
      "[0, 2, 4]\n"
     ]
    }
   ],
   "source": [
    "# transforming lists\n",
    "x= [1,2,3,4,5]\n",
    "evens = [x for x in range (5) if x % 2 == 0]\n",
    "odds = [x for x in range (5) if x % 2 == 0]\n",
    "print(odds) # [0,2,4]"
   ]
  },
  {
   "cell_type": "code",
   "execution_count": 15,
   "metadata": {},
   "outputs": [
    {
     "name": "stdout",
     "output_type": "stream",
     "text": [
      "(3, 4)\n"
     ]
    }
   ],
   "source": [
    "#tuples - like lists but cant be changed. use () or no braces\n",
    "mytuple1 = (1,2)\n",
    "mytuple2 = 3,4\n",
    "print(mytuple2)"
   ]
  },
  {
   "cell_type": "code",
   "execution_count": 16,
   "metadata": {},
   "outputs": [
    {
     "name": "stdout",
     "output_type": "stream",
     "text": [
      "{'date': 0.0625, 'symbol': 'fox', 'price': 4.44}\n"
     ]
    }
   ],
   "source": [
    "#dictionaries - associate things like a DB\n",
    "emptydict = {}\n",
    "emptydict2 = {}\n",
    "grades = { \"jo\" : 80, \"tim\" : 90 }\n",
    "s={}\n",
    "s[1] = {'date' :1/1/16, 'symbol':'fox','price':4.44}\n",
    "s[2] = {'date' :2/1/16, 'symbol':'2ppl','price':24.44}\n",
    "print(s[1])"
   ]
  },
  {
   "cell_type": "code",
   "execution_count": 17,
   "metadata": {},
   "outputs": [
    {
     "name": "stdout",
     "output_type": "stream",
     "text": [
      "Counter({0: 2, 1: 1, 2: 1})\n"
     ]
    },
    {
     "data": {
      "text/plain": [
       "Counter({0: 2, 1: 1, 2: 1})"
      ]
     },
     "execution_count": 17,
     "metadata": {},
     "output_type": "execute_result"
    }
   ],
   "source": [
    "#Useful for histograms\n",
    "from collections import Counter\n",
    "c = Counter([0,1,2,0])\n",
    "print(c)\n",
    "Counter({0:2, 1: 1, 2:1})"
   ]
  },
  {
   "cell_type": "code",
   "execution_count": 18,
   "metadata": {},
   "outputs": [
    {
     "name": "stdout",
     "output_type": "stream",
     "text": [
      "True\n",
      "False\n"
     ]
    }
   ],
   "source": [
    "# sets - very fast checking of members\n",
    "stopwords =set=[\"a\", \"an\", \"the\",\"yet\",\"you\"] #and many other words\n",
    "print(\"you\" in stopwords)\n",
    "print(\"gong\" in stopwords)"
   ]
  },
  {
   "cell_type": "code",
   "execution_count": 19,
   "metadata": {},
   "outputs": [
    {
     "name": "stdout",
     "output_type": "stream",
     "text": [
      "9\n",
      "9\n"
     ]
    }
   ],
   "source": [
    "# functions\n",
    "def mysquare(x):\n",
    "    return(x * x)\n",
    "mn = 3\n",
    "print(mysquare(mn))\n",
    "\n",
    "# one-off 'Lambda' functions\n",
    "add_five = lambda number: number + 5\n",
    "print(add_five(number=4))"
   ]
  },
  {
   "cell_type": "code",
   "execution_count": 20,
   "metadata": {},
   "outputs": [
    {
     "ename": "NameError",
     "evalue": "name 'ramdom' is not defined",
     "output_type": "error",
     "traceback": [
      "\u001b[0;31m---------------------------------------------------------------------------\u001b[0m",
      "\u001b[0;31mNameError\u001b[0m                                 Traceback (most recent call last)",
      "\u001b[0;32m<ipython-input-20-6fe49970a50c>\u001b[0m in \u001b[0;36m<module>\u001b[0;34m\u001b[0m\n\u001b[1;32m      1\u001b[0m \u001b[0;31m# 1 Random\u001b[0m\u001b[0;34m\u001b[0m\u001b[0;34m\u001b[0m\u001b[0;34m\u001b[0m\u001b[0m\n\u001b[1;32m      2\u001b[0m \u001b[0;32mimport\u001b[0m \u001b[0mrandom\u001b[0m\u001b[0;34m\u001b[0m\u001b[0;34m\u001b[0m\u001b[0m\n\u001b[0;32m----> 3\u001b[0;31m \u001b[0mramdom\u001b[0m\u001b[0;34m.\u001b[0m\u001b[0mseed\u001b[0m\u001b[0;34m(\u001b[0m\u001b[0;36m10\u001b[0m\u001b[0;34m)\u001b[0m\u001b[0;34m\u001b[0m\u001b[0;34m\u001b[0m\u001b[0m\n\u001b[0m\u001b[1;32m      4\u001b[0m \u001b[0mprint\u001b[0m\u001b[0;34m(\u001b[0m\u001b[0mrandom\u001b[0m\u001b[0;34m.\u001b[0m\u001b[0mrandom\u001b[0m\u001b[0;34m)\u001b[0m\u001b[0;34m\u001b[0m\u001b[0;34m\u001b[0m\u001b[0m\n\u001b[1;32m      5\u001b[0m \u001b[0;34m\u001b[0m\u001b[0m\n",
      "\u001b[0;31mNameError\u001b[0m: name 'ramdom' is not defined"
     ]
    }
   ],
   "source": [
    "# 1 Random\n",
    "import random\n",
    "ramdom.seed(10)\n",
    "print(random.random)\n",
    "\n",
    "# 2 Regular expressions\n",
    "import re\n",
    "str = 'an example word:cat !!'\n",
    "match = re.search(r'word:\\w\\w\\w', str)\n",
    "# If-statement after search() tests if it succeeded\n",
    "if match:\n",
    "    print ('found'), match.group() ## 'found word:cat'\n",
    "else:\n",
    "    print ('did not find')\n",
    "    \n",
    "#Serach for pattern 'iii' in string 'piiig'.\n",
    "## All of the pattern must match, but it may appear anywhere.\n",
    "## On succes, match.group() is matched text.\n",
    "match = re.search(r'iii', 'piiig') #=> found, match.group() == \"iii\"\n",
    "print(match)\n",
    "match = re.search(r'igs', 'piiig') #=> not found, match == None\n",
    "print(match)\n",
    "\n",
    "# 3 zip-ing data together. Python works left to right\n",
    "x = [1,2,3]\n",
    "y = [4,5,6]\n",
    "zipped = zip(x,y)\n",
    "print (zipped) #[(1,4), (2,5), (3,6)]\n",
    "x2, y2 = zip(*zipped)\n",
    "print (x2)\n",
    "print (y2)\n",
    "x == list(x2) and y == list(y2)"
   ]
  },
  {
   "cell_type": "code",
   "execution_count": 21,
   "metadata": {},
   "outputs": [
    {
     "ename": "AttributeError",
     "evalue": "'Employee' object has no attribute 'displayEmployee'",
     "output_type": "error",
     "traceback": [
      "\u001b[0;31m---------------------------------------------------------------------------\u001b[0m",
      "\u001b[0;31mAttributeError\u001b[0m                            Traceback (most recent call last)",
      "\u001b[0;32m<ipython-input-21-e14dc06d4bcb>\u001b[0m in \u001b[0;36m<module>\u001b[0;34m\u001b[0m\n\u001b[1;32m     20\u001b[0m \u001b[0;34m\"This would create second object of Employee class\"\u001b[0m\u001b[0;34m\u001b[0m\u001b[0;34m\u001b[0m\u001b[0m\n\u001b[1;32m     21\u001b[0m \u001b[0memp2\u001b[0m \u001b[0;34m=\u001b[0m \u001b[0mEmployee\u001b[0m\u001b[0;34m(\u001b[0m\u001b[0;34m\"Manni\"\u001b[0m \u001b[0;34m,\u001b[0m \u001b[0;36m5000\u001b[0m\u001b[0;34m)\u001b[0m\u001b[0;34m\u001b[0m\u001b[0;34m\u001b[0m\u001b[0m\n\u001b[0;32m---> 22\u001b[0;31m \u001b[0memp1\u001b[0m\u001b[0;34m.\u001b[0m\u001b[0mdisplayEmployee\u001b[0m\u001b[0;34m(\u001b[0m\u001b[0;34m)\u001b[0m\u001b[0;34m\u001b[0m\u001b[0;34m\u001b[0m\u001b[0m\n\u001b[0m\u001b[1;32m     23\u001b[0m \u001b[0memp2\u001b[0m\u001b[0;34m.\u001b[0m\u001b[0mdisplayEmployee\u001b[0m\u001b[0;34m(\u001b[0m\u001b[0;34m)\u001b[0m\u001b[0;34m\u001b[0m\u001b[0;34m\u001b[0m\u001b[0m\n\u001b[1;32m     24\u001b[0m \u001b[0mprit\u001b[0m \u001b[0;34m(\u001b[0m\u001b[0;34m\"Total Employee %d\"\u001b[0m \u001b[0;34m%\u001b[0m \u001b[0mEmployee\u001b[0m\u001b[0;34m.\u001b[0m\u001b[0mempCount\u001b[0m\u001b[0;34m)\u001b[0m\u001b[0;34m\u001b[0m\u001b[0;34m\u001b[0m\u001b[0m\n",
      "\u001b[0;31mAttributeError\u001b[0m: 'Employee' object has no attribute 'displayEmployee'"
     ]
    }
   ],
   "source": [
    "# classes \n",
    "#!/usr/bin/python\n",
    "class Employee: # name of class is Employee\n",
    "    'Common base class for all employees'\n",
    "    empCount = 0\n",
    "    \n",
    "    def __init__ (self, name, salary): # class constructor\n",
    "        self.name = name\n",
    "        self.salary = salary\n",
    "        Employee.empCount += 1\n",
    "        \n",
    "        def displayCount(self):\n",
    "            print (\"Name : \", self.name, \", Salary: \", self.salary)\n",
    "            \n",
    "        def displayEmployee(self):\n",
    "            print(\"Name :\", self.name, \", Salary:\" , self.salary)\n",
    "            \n",
    "\"This would create first object of Employee class\"\n",
    "emp1 = Employee(\"Zara\", 2000)\n",
    "\"This would create second object of Employee class\"\n",
    "emp2 = Employee(\"Manni\" , 5000)\n",
    "emp1.displayEmployee()\n",
    "emp2.displayEmployee()\n",
    "prit (\"Total Employee %d\" % Employee.empCount)\n",
    "\n",
    "#\\n newline; \\r carriage return; \\tab tab;"
   ]
  },
  {
   "cell_type": "code",
   "execution_count": null,
   "metadata": {},
   "outputs": [],
   "source": []
  }
 ],
 "metadata": {
  "kernelspec": {
   "display_name": "Python 3",
   "language": "python",
   "name": "python3"
  },
  "language_info": {
   "codemirror_mode": {
    "name": "ipython",
    "version": 3
   },
   "file_extension": ".py",
   "mimetype": "text/x-python",
   "name": "python",
   "nbconvert_exporter": "python",
   "pygments_lexer": "ipython3",
   "version": "3.7.4"
  }
 },
 "nbformat": 4,
 "nbformat_minor": 2
}
