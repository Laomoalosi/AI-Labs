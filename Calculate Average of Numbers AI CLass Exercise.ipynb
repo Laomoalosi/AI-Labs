{
 "cells": [
  {
   "cell_type": "code",
   "execution_count": 1,
   "metadata": {},
   "outputs": [
    {
     "name": "stdout",
     "output_type": "stream",
     "text": [
      "Enter 'x' for exit.\n",
      "Enter any 5 numbers to find average: \n",
      "10\n",
      "20\n",
      "50\n",
      "40\n",
      "100\n",
      "Average of entered 5 numbers is 44.0\n"
     ]
    }
   ],
   "source": [
    "# Python Program - Calculate Average of Numbers\n",
    "\n",
    "print(\"Enter 'x' for exit.\");\n",
    "print(\"Enter any 5 numbers to find average: \");\n",
    "n1 = input();\n",
    "if n1 == 'x':\n",
    "    exit();\n",
    "else:\n",
    "    n2 = input();\n",
    "    n3 = input();\n",
    "    n4 = input();\n",
    "    n5 = input();\n",
    "    number1 = int(n1);\n",
    "    number2 = int(n2);\n",
    "    number3 = int(n3);\n",
    "    number4 = int(n4);\n",
    "    number5 = int(n5);\n",
    "    sum = number1 + number2 + number3 + number4 + number5;\n",
    "    average = sum/5;\n",
    "    print(\"Average of entered 5 numbers is\",average);"
   ]
  },
  {
   "cell_type": "code",
   "execution_count": null,
   "metadata": {},
   "outputs": [],
   "source": []
  }
 ],
 "metadata": {
  "kernelspec": {
   "display_name": "Python 3",
   "language": "python",
   "name": "python3"
  },
  "language_info": {
   "codemirror_mode": {
    "name": "ipython",
    "version": 3
   },
   "file_extension": ".py",
   "mimetype": "text/x-python",
   "name": "python",
   "nbconvert_exporter": "python",
   "pygments_lexer": "ipython3",
   "version": "3.7.4"
  }
 },
 "nbformat": 4,
 "nbformat_minor": 2
}
